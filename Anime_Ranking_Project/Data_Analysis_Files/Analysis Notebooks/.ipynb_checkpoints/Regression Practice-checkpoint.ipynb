{
 "cells": [
  {
   "cell_type": "markdown",
   "metadata": {},
   "source": [
    "## Notebook Summary"
   ]
  },
  {
   "cell_type": "markdown",
   "metadata": {},
   "source": [
    "This notebook uses a dataset of anime info webscraped from myanimelist.net and compiled into a single .csv file. This notebook serves as a data science project to practice the process of statistical inference"
   ]
  },
  {
   "cell_type": "markdown",
   "metadata": {},
   "source": [
    "## Imports"
   ]
  },
  {
   "cell_type": "code",
   "execution_count": 1,
   "metadata": {},
   "outputs": [],
   "source": [
    "import pandas as pd\n",
    "import numpy as np\n",
    "import matplotlib.pyplot as plt\n",
    "import seaborn as sns\n",
    "%matplotlib inline"
   ]
  },
  {
   "cell_type": "code",
   "execution_count": 22,
   "metadata": {},
   "outputs": [],
   "source": [
    "from sklearn.linear_model import LinearRegression\n",
    "from sklearn.model_selection import train_test_split\n",
    "from sklearn import metrics"
   ]
  },
  {
   "cell_type": "code",
   "execution_count": 25,
   "metadata": {},
   "outputs": [],
   "source": [
    "import statsmodels.api as sm\n",
    "from patsy import dmatrices"
   ]
  },
  {
   "cell_type": "markdown",
   "metadata": {},
   "source": [
    "### Data Collection"
   ]
  },
  {
   "cell_type": "code",
   "execution_count": 4,
   "metadata": {},
   "outputs": [
    {
     "name": "stdout",
     "output_type": "stream",
     "text": [
      "<class 'pandas.core.frame.DataFrame'>\n",
      "RangeIndex: 300 entries, 0 to 299\n",
      "Data columns (total 24 columns):\n",
      " #   Column              Non-Null Count  Dtype  \n",
      "---  ------              --------------  -----  \n",
      " 0   Title               300 non-null    object \n",
      " 1   Rank                300 non-null    int64  \n",
      " 2   Score               300 non-null    float64\n",
      " 3   Medium              300 non-null    object \n",
      " 4   Number of Episodes  300 non-null    int64  \n",
      " 5   Episode Length      300 non-null    object \n",
      " 6   Start Date          300 non-null    object \n",
      " 7   End Date            296 non-null    object \n",
      " 8   Premier Season      300 non-null    object \n",
      " 9   Source Material     300 non-null    object \n",
      " 10  Age Rating          300 non-null    object \n",
      " 11  Number of Members   300 non-null    int64  \n",
      " 12  URLS                300 non-null    object \n",
      " 13  Synopses            300 non-null    object \n",
      " 14  Genre 1             300 non-null    object \n",
      " 15  Genre 2             236 non-null    object \n",
      " 16  Genre 3             179 non-null    object \n",
      " 17  Genre 4             132 non-null    object \n",
      " 18  Genre 5             91 non-null     object \n",
      " 19  Genre 6             44 non-null     object \n",
      " 20  Genre 7             26 non-null     object \n",
      " 21  Genre 8             2 non-null      object \n",
      " 22  Total Minutes       300 non-null    int64  \n",
      " 23  Synopsis Length     300 non-null    int64  \n",
      "dtypes: float64(1), int64(5), object(18)\n",
      "memory usage: 56.4+ KB\n"
     ]
    }
   ],
   "source": [
    "df = pd.read_csv(\"../Pandas_Made_csvs/ranked_anime.csv\")\n",
    "df.drop(['Unnamed: 0'], inplace=True, axis=1)\n",
    "df.reset_index(drop=True, inplace=True)\n",
    "df.info()"
   ]
  },
  {
   "cell_type": "code",
   "execution_count": null,
   "metadata": {},
   "outputs": [],
   "source": [
    "# df = pd.concat([pd.read_csv(\"../Web_Scraped_csvs/ranked_anime_1.csv\"),pd.read_csv(\"../Web_Scraped_csvs/ranked_anime_2.csv\"),pd.read_csv(\"../Web_Scraped_csvs/ranked_anime_3.csv\"),pd.read_csv(\"../Web_Scraped_csvs/ranked_anime_4.csv\"),pd.read_csv(\"../Web_Scraped_csvs/ranked_anime_5.csv\"),pd.read_csv(\"../Web_Scraped_csvs/ranked_anime_6.csv\")])\n",
    "# df.reset_index(drop=True, inplace=True)\n",
    "# df.info()"
   ]
  },
  {
   "cell_type": "code",
   "execution_count": 46,
   "metadata": {},
   "outputs": [],
   "source": [
    "# X = df[['Medium','Source Material','Age Rating','Total Minutes', 'Synopsis Length']]\n",
    "# y = df['Score']"
   ]
  },
  {
   "cell_type": "code",
   "execution_count": 5,
   "metadata": {},
   "outputs": [],
   "source": [
    "X = df[['Number of Episodes','Number of Members','Total Minutes','Synopsis Length']]\n",
    "y = df['Score']"
   ]
  },
  {
   "cell_type": "markdown",
   "metadata": {},
   "source": [
    "### Train Test Split"
   ]
  },
  {
   "cell_type": "code",
   "execution_count": 6,
   "metadata": {},
   "outputs": [],
   "source": [
    "X_train, X_test, y_train, y_test = train_test_split(X,y,test_size=0.3,random_state=11)"
   ]
  },
  {
   "cell_type": "code",
   "execution_count": 7,
   "metadata": {},
   "outputs": [],
   "source": [
    "lm = LinearRegression()"
   ]
  },
  {
   "cell_type": "code",
   "execution_count": 8,
   "metadata": {},
   "outputs": [
    {
     "data": {
      "text/plain": [
       "LinearRegression(copy_X=True, fit_intercept=True, n_jobs=None, normalize=False)"
      ]
     },
     "execution_count": 8,
     "metadata": {},
     "output_type": "execute_result"
    }
   ],
   "source": [
    "lm.fit(X_train,y_train)"
   ]
  },
  {
   "cell_type": "code",
   "execution_count": 9,
   "metadata": {},
   "outputs": [],
   "source": [
    "predictions = lm.predict(X_test)"
   ]
  },
  {
   "cell_type": "code",
   "execution_count": 23,
   "metadata": {},
   "outputs": [
    {
     "name": "stdout",
     "output_type": "stream",
     "text": [
      "MAE: 1.0148004077825543\n",
      "MSE: 1.3729010299998092\n",
      "RMSE: 1.1717085943184888\n"
     ]
    }
   ],
   "source": [
    "print('MAE:', metrics.mean_absolute_error(y_test, predictions))\n",
    "print('MSE:', metrics.mean_squared_error(y_test, predictions))\n",
    "print('RMSE:', np.sqrt(metrics.mean_squared_error(y_test, predictions)))"
   ]
  },
  {
   "cell_type": "code",
   "execution_count": 48,
   "metadata": {},
   "outputs": [],
   "source": [
    "# y, X = dmatrices('Score ~ Q(\"Medium\") + Q(\"Source Material\") + Q(\"Age Rating\") + Q(\"Total Minutes\") + Q(\"Synopsis Length\")', data=df, return_type='dataframe')"
   ]
  },
  {
   "cell_type": "code",
   "execution_count": 26,
   "metadata": {},
   "outputs": [],
   "source": [
    "y, X = dmatrices('Score ~ Q(\"Number of Episodes\") + Q(\"Number of Members\") + Q(\"Total Minutes\") + Q(\"Synopsis Length\")', data=df, return_type='dataframe')"
   ]
  },
  {
   "cell_type": "code",
   "execution_count": 27,
   "metadata": {
    "scrolled": true
   },
   "outputs": [],
   "source": [
    "model = sm.OLS(y, X)"
   ]
  },
  {
   "cell_type": "code",
   "execution_count": 28,
   "metadata": {},
   "outputs": [],
   "source": [
    "result = model.fit()"
   ]
  },
  {
   "cell_type": "code",
   "execution_count": 29,
   "metadata": {},
   "outputs": [
    {
     "name": "stdout",
     "output_type": "stream",
     "text": [
      "                            OLS Regression Results                            \n",
      "==============================================================================\n",
      "Dep. Variable:                  Score   R-squared:                       0.496\n",
      "Model:                            OLS   Adj. R-squared:                  0.489\n",
      "Method:                 Least Squares   F-statistic:                     72.65\n",
      "Date:                Sat, 09 Jan 2021   Prob (F-statistic):           8.89e-43\n",
      "Time:                        20:42:50   Log-Likelihood:                -488.64\n",
      "No. Observations:                 300   AIC:                             987.3\n",
      "Df Residuals:                     295   BIC:                             1006.\n",
      "Df Model:                           4                                         \n",
      "Covariance Type:            nonrobust                                         \n",
      "===========================================================================================\n",
      "                              coef    std err          t      P>|t|      [0.025      0.975]\n",
      "-------------------------------------------------------------------------------------------\n",
      "Intercept                   5.2758      0.120     44.078      0.000       5.040       5.511\n",
      "Q(\"Number of Episodes\")    -0.0029      0.007     -0.398      0.691      -0.017       0.011\n",
      "Q(\"Number of Members\")   1.553e-06   2.26e-07      6.862      0.000    1.11e-06       2e-06\n",
      "Q(\"Total Minutes\")          0.0001      0.000      0.470      0.639      -0.000       0.001\n",
      "Q(\"Synopsis Length\")        0.0119      0.001      9.295      0.000       0.009       0.014\n",
      "==============================================================================\n",
      "Omnibus:                        1.802   Durbin-Watson:                   0.861\n",
      "Prob(Omnibus):                  0.406   Jarque-Bera (JB):                1.551\n",
      "Skew:                          -0.013   Prob(JB):                        0.460\n",
      "Kurtosis:                       2.649   Cond. No.                     7.11e+05\n",
      "==============================================================================\n",
      "\n",
      "Warnings:\n",
      "[1] Standard Errors assume that the covariance matrix of the errors is correctly specified.\n",
      "[2] The condition number is large, 7.11e+05. This might indicate that there are\n",
      "strong multicollinearity or other numerical problems.\n"
     ]
    }
   ],
   "source": [
    "print(result.summary())"
   ]
  },
  {
   "cell_type": "code",
   "execution_count": 30,
   "metadata": {
    "collapsed": true
   },
   "outputs": [
    {
     "ename": "ValueError",
     "evalue": "shapes (300,5) and (300,5) not aligned: 5 (dim 1) != 300 (dim 0)",
     "output_type": "error",
     "traceback": [
      "\u001b[0;31m---------------------------------------------------------------------------\u001b[0m",
      "\u001b[0;31mValueError\u001b[0m                                Traceback (most recent call last)",
      "\u001b[0;32m<ipython-input-30-073b7fae8952>\u001b[0m in \u001b[0;36m<module>\u001b[0;34m\u001b[0m\n\u001b[0;32m----> 1\u001b[0;31m \u001b[0mpredictions\u001b[0m \u001b[0;34m=\u001b[0m \u001b[0mmodel\u001b[0m\u001b[0;34m.\u001b[0m\u001b[0mpredict\u001b[0m\u001b[0;34m(\u001b[0m\u001b[0mX\u001b[0m\u001b[0;34m)\u001b[0m\u001b[0;34m\u001b[0m\u001b[0;34m\u001b[0m\u001b[0m\n\u001b[0m",
      "\u001b[0;32m~/opt/anaconda3/lib/python3.7/site-packages/statsmodels/regression/linear_model.py\u001b[0m in \u001b[0;36mpredict\u001b[0;34m(self, params, exog)\u001b[0m\n\u001b[1;32m    378\u001b[0m             \u001b[0mexog\u001b[0m \u001b[0;34m=\u001b[0m \u001b[0mself\u001b[0m\u001b[0;34m.\u001b[0m\u001b[0mexog\u001b[0m\u001b[0;34m\u001b[0m\u001b[0;34m\u001b[0m\u001b[0m\n\u001b[1;32m    379\u001b[0m \u001b[0;34m\u001b[0m\u001b[0m\n\u001b[0;32m--> 380\u001b[0;31m         \u001b[0;32mreturn\u001b[0m \u001b[0mnp\u001b[0m\u001b[0;34m.\u001b[0m\u001b[0mdot\u001b[0m\u001b[0;34m(\u001b[0m\u001b[0mexog\u001b[0m\u001b[0;34m,\u001b[0m \u001b[0mparams\u001b[0m\u001b[0;34m)\u001b[0m\u001b[0;34m\u001b[0m\u001b[0;34m\u001b[0m\u001b[0m\n\u001b[0m\u001b[1;32m    381\u001b[0m \u001b[0;34m\u001b[0m\u001b[0m\n\u001b[1;32m    382\u001b[0m     \u001b[0;32mdef\u001b[0m \u001b[0mget_distribution\u001b[0m\u001b[0;34m(\u001b[0m\u001b[0mself\u001b[0m\u001b[0;34m,\u001b[0m \u001b[0mparams\u001b[0m\u001b[0;34m,\u001b[0m \u001b[0mscale\u001b[0m\u001b[0;34m,\u001b[0m \u001b[0mexog\u001b[0m\u001b[0;34m=\u001b[0m\u001b[0;32mNone\u001b[0m\u001b[0;34m,\u001b[0m \u001b[0mdist_class\u001b[0m\u001b[0;34m=\u001b[0m\u001b[0;32mNone\u001b[0m\u001b[0;34m)\u001b[0m\u001b[0;34m:\u001b[0m\u001b[0;34m\u001b[0m\u001b[0;34m\u001b[0m\u001b[0m\n",
      "\u001b[0;32m<__array_function__ internals>\u001b[0m in \u001b[0;36mdot\u001b[0;34m(*args, **kwargs)\u001b[0m\n",
      "\u001b[0;31mValueError\u001b[0m: shapes (300,5) and (300,5) not aligned: 5 (dim 1) != 300 (dim 0)"
     ]
    }
   ],
   "source": [
    "predictions = model.predict(X)"
   ]
  }
 ],
 "metadata": {
  "kernelspec": {
   "display_name": "Python 3",
   "language": "python",
   "name": "python3"
  },
  "language_info": {
   "codemirror_mode": {
    "name": "ipython",
    "version": 3
   },
   "file_extension": ".py",
   "mimetype": "text/x-python",
   "name": "python",
   "nbconvert_exporter": "python",
   "pygments_lexer": "ipython3",
   "version": "3.7.6"
  }
 },
 "nbformat": 4,
 "nbformat_minor": 4
}
