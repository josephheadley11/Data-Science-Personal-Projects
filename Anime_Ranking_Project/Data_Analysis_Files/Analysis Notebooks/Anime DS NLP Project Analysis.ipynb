{
 "cells": [
  {
   "cell_type": "markdown",
   "metadata": {},
   "source": [
    "## Imports"
   ]
  },
  {
   "cell_type": "code",
   "execution_count": 1,
   "metadata": {},
   "outputs": [],
   "source": [
    "import pandas as pd\n",
    "import numpy as np\n",
    "import matplotlib.pyplot as plt\n",
    "import seaborn as sns\n",
    "%matplotlib inline"
   ]
  },
  {
   "cell_type": "code",
   "execution_count": 2,
   "metadata": {},
   "outputs": [],
   "source": [
    "import nltk\n",
    "# nltk.download('stopwords')"
   ]
  },
  {
   "cell_type": "code",
   "execution_count": 3,
   "metadata": {},
   "outputs": [],
   "source": [
    "import string\n",
    "from nltk.corpus import stopwords"
   ]
  },
  {
   "cell_type": "markdown",
   "metadata": {},
   "source": [
    "## Data Cleaning & Preprocessing"
   ]
  },
  {
   "cell_type": "code",
   "execution_count": 4,
   "metadata": {},
   "outputs": [],
   "source": [
    "df = pd.read_csv('ranked_anime.csv')\n",
    "df.drop(['Unnamed: 0'], inplace=True, axis=1)"
   ]
  },
  {
   "cell_type": "code",
   "execution_count": 5,
   "metadata": {},
   "outputs": [
    {
     "name": "stdout",
     "output_type": "stream",
     "text": [
      "<class 'pandas.core.frame.DataFrame'>\n",
      "RangeIndex: 300 entries, 0 to 299\n",
      "Data columns (total 24 columns):\n",
      " #   Column              Non-Null Count  Dtype  \n",
      "---  ------              --------------  -----  \n",
      " 0   Title               300 non-null    object \n",
      " 1   Rank                300 non-null    int64  \n",
      " 2   Score               300 non-null    float64\n",
      " 3   Medium              300 non-null    object \n",
      " 4   Number of Episodes  300 non-null    int64  \n",
      " 5   Episode Length      300 non-null    object \n",
      " 6   Start Date          300 non-null    object \n",
      " 7   End Date            296 non-null    object \n",
      " 8   Premier Season      300 non-null    object \n",
      " 9   Source Material     300 non-null    object \n",
      " 10  Age Rating          300 non-null    object \n",
      " 11  Number of Members   300 non-null    int64  \n",
      " 12  URLS                300 non-null    object \n",
      " 13  Synopses            300 non-null    object \n",
      " 14  Genre 1             300 non-null    object \n",
      " 15  Genre 2             236 non-null    object \n",
      " 16  Genre 3             179 non-null    object \n",
      " 17  Genre 4             132 non-null    object \n",
      " 18  Genre 5             91 non-null     object \n",
      " 19  Genre 6             44 non-null     object \n",
      " 20  Genre 7             26 non-null     object \n",
      " 21  Genre 8             2 non-null      object \n",
      " 22  Total Minutes       300 non-null    int64  \n",
      " 23  Synopsis Length     300 non-null    int64  \n",
      "dtypes: float64(1), int64(5), object(18)\n",
      "memory usage: 56.4+ KB\n"
     ]
    }
   ],
   "source": [
    "df.info()"
   ]
  },
  {
   "cell_type": "code",
   "execution_count": 6,
   "metadata": {},
   "outputs": [
    {
     "data": {
      "text/plain": [
       "0      \"In order for something to be obtained, someth...\n",
       "1      The self-proclaimed mad scientist Rintarou Oka...\n",
       "2      Gintoki, Shinpachi, and Kagura return as the f...\n",
       "3      Hunter x Hunter is set in a world where Hunter...\n",
       "4      Seeking to restore humanity’s diminishing hope...\n",
       "                             ...                        \n",
       "295    The human eye, a well-known motif in psychedel...\n",
       "296    An animated film series based on the Ao Oni ga...\n",
       "297    Pet shop owner's daughter Chika Tokorozawa spe...\n",
       "298    A surrealistic short from minimalist cartoonis...\n",
       "299    \"Yoru no Okite\" takes us to the sky (or to hel...\n",
       "Name: Synopses, Length: 300, dtype: object"
      ]
     },
     "execution_count": 6,
     "metadata": {},
     "output_type": "execute_result"
    }
   ],
   "source": [
    "df['Synopses']"
   ]
  },
  {
   "cell_type": "code",
   "execution_count": 26,
   "metadata": {},
   "outputs": [
    {
     "data": {
      "text/html": [
       "<div>\n",
       "<style scoped>\n",
       "    .dataframe tbody tr th:only-of-type {\n",
       "        vertical-align: middle;\n",
       "    }\n",
       "\n",
       "    .dataframe tbody tr th {\n",
       "        vertical-align: top;\n",
       "    }\n",
       "\n",
       "    .dataframe thead th {\n",
       "        text-align: right;\n",
       "    }\n",
       "</style>\n",
       "<table border=\"1\" class=\"dataframe\">\n",
       "  <thead>\n",
       "    <tr style=\"text-align: right;\">\n",
       "      <th></th>\n",
       "      <th>Title</th>\n",
       "      <th>Rank</th>\n",
       "      <th>Score</th>\n",
       "      <th>Medium</th>\n",
       "      <th>Number of Episodes</th>\n",
       "      <th>Episode Length</th>\n",
       "      <th>Start Date</th>\n",
       "      <th>End Date</th>\n",
       "      <th>Premier Season</th>\n",
       "      <th>Source Material</th>\n",
       "      <th>...</th>\n",
       "      <th>Genre 1</th>\n",
       "      <th>Genre 2</th>\n",
       "      <th>Genre 3</th>\n",
       "      <th>Genre 4</th>\n",
       "      <th>Genre 5</th>\n",
       "      <th>Genre 6</th>\n",
       "      <th>Genre 7</th>\n",
       "      <th>Genre 8</th>\n",
       "      <th>Total Minutes</th>\n",
       "      <th>Synopsis Length</th>\n",
       "    </tr>\n",
       "  </thead>\n",
       "  <tbody>\n",
       "    <tr>\n",
       "      <th>0</th>\n",
       "      <td>Fullmetal Alchemist: Brotherhood</td>\n",
       "      <td>1</td>\n",
       "      <td>9.21</td>\n",
       "      <td>TV</td>\n",
       "      <td>64</td>\n",
       "      <td>24 min. per ep.</td>\n",
       "      <td>Apr 2009</td>\n",
       "      <td>Jul 2010</td>\n",
       "      <td>Spring</td>\n",
       "      <td>Manga</td>\n",
       "      <td>...</td>\n",
       "      <td>Action</td>\n",
       "      <td>Military</td>\n",
       "      <td>Adventure</td>\n",
       "      <td>Comedy</td>\n",
       "      <td>Drama</td>\n",
       "      <td>Magic</td>\n",
       "      <td>Fantasy</td>\n",
       "      <td>Shounen</td>\n",
       "      <td>1536</td>\n",
       "      <td>223</td>\n",
       "    </tr>\n",
       "    <tr>\n",
       "      <th>2</th>\n",
       "      <td>Gintama°</td>\n",
       "      <td>3</td>\n",
       "      <td>9.11</td>\n",
       "      <td>TV</td>\n",
       "      <td>51</td>\n",
       "      <td>24 min. per ep.</td>\n",
       "      <td>Apr 2015</td>\n",
       "      <td>Mar 2016</td>\n",
       "      <td>Spring</td>\n",
       "      <td>Manga</td>\n",
       "      <td>...</td>\n",
       "      <td>Action</td>\n",
       "      <td>Comedy</td>\n",
       "      <td>Historical</td>\n",
       "      <td>Parody</td>\n",
       "      <td>Samurai</td>\n",
       "      <td>Sci-Fi</td>\n",
       "      <td>Shounen</td>\n",
       "      <td>NaN</td>\n",
       "      <td>1224</td>\n",
       "      <td>185</td>\n",
       "    </tr>\n",
       "    <tr>\n",
       "      <th>3</th>\n",
       "      <td>Hunter x Hunter (2011)</td>\n",
       "      <td>4</td>\n",
       "      <td>9.11</td>\n",
       "      <td>TV</td>\n",
       "      <td>148</td>\n",
       "      <td>23 min. per ep.</td>\n",
       "      <td>Oct 2011</td>\n",
       "      <td>Sep 2014</td>\n",
       "      <td>Fall</td>\n",
       "      <td>Manga</td>\n",
       "      <td>...</td>\n",
       "      <td>Action</td>\n",
       "      <td>Adventure</td>\n",
       "      <td>Fantasy</td>\n",
       "      <td>Shounen</td>\n",
       "      <td>Super Power</td>\n",
       "      <td>NaN</td>\n",
       "      <td>NaN</td>\n",
       "      <td>NaN</td>\n",
       "      <td>3404</td>\n",
       "      <td>164</td>\n",
       "    </tr>\n",
       "    <tr>\n",
       "      <th>4</th>\n",
       "      <td>Shingeki no Kyojin Season 3 Part 2</td>\n",
       "      <td>5</td>\n",
       "      <td>9.09</td>\n",
       "      <td>TV</td>\n",
       "      <td>10</td>\n",
       "      <td>23 min. per ep.</td>\n",
       "      <td>Apr 2019</td>\n",
       "      <td>Jul 2019</td>\n",
       "      <td>Spring</td>\n",
       "      <td>Manga</td>\n",
       "      <td>...</td>\n",
       "      <td>Action</td>\n",
       "      <td>Military</td>\n",
       "      <td>Mystery</td>\n",
       "      <td>Super Power</td>\n",
       "      <td>Drama</td>\n",
       "      <td>Fantasy</td>\n",
       "      <td>Shounen</td>\n",
       "      <td>NaN</td>\n",
       "      <td>230</td>\n",
       "      <td>130</td>\n",
       "    </tr>\n",
       "    <tr>\n",
       "      <th>6</th>\n",
       "      <td>Gintama'</td>\n",
       "      <td>7</td>\n",
       "      <td>9.08</td>\n",
       "      <td>TV</td>\n",
       "      <td>51</td>\n",
       "      <td>24 min. per ep.</td>\n",
       "      <td>Apr 2011</td>\n",
       "      <td>Mar 2012</td>\n",
       "      <td>Spring</td>\n",
       "      <td>Manga</td>\n",
       "      <td>...</td>\n",
       "      <td>Action</td>\n",
       "      <td>Sci-Fi</td>\n",
       "      <td>Comedy</td>\n",
       "      <td>Historical</td>\n",
       "      <td>Parody</td>\n",
       "      <td>Samurai</td>\n",
       "      <td>Shounen</td>\n",
       "      <td>NaN</td>\n",
       "      <td>1224</td>\n",
       "      <td>161</td>\n",
       "    </tr>\n",
       "    <tr>\n",
       "      <th>...</th>\n",
       "      <td>...</td>\n",
       "      <td>...</td>\n",
       "      <td>...</td>\n",
       "      <td>...</td>\n",
       "      <td>...</td>\n",
       "      <td>...</td>\n",
       "      <td>...</td>\n",
       "      <td>...</td>\n",
       "      <td>...</td>\n",
       "      <td>...</td>\n",
       "      <td>...</td>\n",
       "      <td>...</td>\n",
       "      <td>...</td>\n",
       "      <td>...</td>\n",
       "      <td>...</td>\n",
       "      <td>...</td>\n",
       "      <td>...</td>\n",
       "      <td>...</td>\n",
       "      <td>...</td>\n",
       "      <td>...</td>\n",
       "      <td>...</td>\n",
       "    </tr>\n",
       "    <tr>\n",
       "      <th>289</th>\n",
       "      <td>Idol Fight Suchie-Pai 2</td>\n",
       "      <td>10790</td>\n",
       "      <td>4.29</td>\n",
       "      <td>OVA</td>\n",
       "      <td>1</td>\n",
       "      <td>30 min.\\n</td>\n",
       "      <td>Apr 1996</td>\n",
       "      <td>Apr 1996</td>\n",
       "      <td>Unavailable</td>\n",
       "      <td>Game</td>\n",
       "      <td>...</td>\n",
       "      <td>Action</td>\n",
       "      <td>Ecchi</td>\n",
       "      <td>NaN</td>\n",
       "      <td>NaN</td>\n",
       "      <td>NaN</td>\n",
       "      <td>NaN</td>\n",
       "      <td>NaN</td>\n",
       "      <td>NaN</td>\n",
       "      <td>30</td>\n",
       "      <td>85</td>\n",
       "    </tr>\n",
       "    <tr>\n",
       "      <th>290</th>\n",
       "      <td>Ai</td>\n",
       "      <td>10791</td>\n",
       "      <td>4.28</td>\n",
       "      <td>Movie</td>\n",
       "      <td>1</td>\n",
       "      <td>4 min.\\n</td>\n",
       "      <td>1963</td>\n",
       "      <td>1963</td>\n",
       "      <td>Unavailable</td>\n",
       "      <td>Original</td>\n",
       "      <td>...</td>\n",
       "      <td>Dementia</td>\n",
       "      <td>Psychological</td>\n",
       "      <td>Romance</td>\n",
       "      <td>NaN</td>\n",
       "      <td>NaN</td>\n",
       "      <td>NaN</td>\n",
       "      <td>NaN</td>\n",
       "      <td>NaN</td>\n",
       "      <td>4</td>\n",
       "      <td>19</td>\n",
       "    </tr>\n",
       "    <tr>\n",
       "      <th>293</th>\n",
       "      <td>Docchi mo Maid</td>\n",
       "      <td>10794</td>\n",
       "      <td>4.27</td>\n",
       "      <td>ONA</td>\n",
       "      <td>1</td>\n",
       "      <td>13 min.\\n</td>\n",
       "      <td>2004</td>\n",
       "      <td>2004</td>\n",
       "      <td>Unavailable</td>\n",
       "      <td>Original</td>\n",
       "      <td>...</td>\n",
       "      <td>Action</td>\n",
       "      <td>Comedy</td>\n",
       "      <td>Magic</td>\n",
       "      <td>Ecchi</td>\n",
       "      <td>Shoujo Ai</td>\n",
       "      <td>NaN</td>\n",
       "      <td>NaN</td>\n",
       "      <td>NaN</td>\n",
       "      <td>13</td>\n",
       "      <td>28</td>\n",
       "    </tr>\n",
       "    <tr>\n",
       "      <th>295</th>\n",
       "      <td>4.Eyes</td>\n",
       "      <td>10796</td>\n",
       "      <td>4.24</td>\n",
       "      <td>Movie</td>\n",
       "      <td>1</td>\n",
       "      <td>9 min.\\n</td>\n",
       "      <td>1975</td>\n",
       "      <td>1975</td>\n",
       "      <td>Unavailable</td>\n",
       "      <td>Original</td>\n",
       "      <td>...</td>\n",
       "      <td>Dementia</td>\n",
       "      <td>NaN</td>\n",
       "      <td>NaN</td>\n",
       "      <td>NaN</td>\n",
       "      <td>NaN</td>\n",
       "      <td>NaN</td>\n",
       "      <td>NaN</td>\n",
       "      <td>NaN</td>\n",
       "      <td>9</td>\n",
       "      <td>57</td>\n",
       "    </tr>\n",
       "    <tr>\n",
       "      <th>299</th>\n",
       "      <td>Yoru no Okite</td>\n",
       "      <td>10800</td>\n",
       "      <td>4.22</td>\n",
       "      <td>Movie</td>\n",
       "      <td>1</td>\n",
       "      <td>4 min.\\n</td>\n",
       "      <td>1995</td>\n",
       "      <td>1995</td>\n",
       "      <td>Unavailable</td>\n",
       "      <td>Original</td>\n",
       "      <td>...</td>\n",
       "      <td>Dementia</td>\n",
       "      <td>NaN</td>\n",
       "      <td>NaN</td>\n",
       "      <td>NaN</td>\n",
       "      <td>NaN</td>\n",
       "      <td>NaN</td>\n",
       "      <td>NaN</td>\n",
       "      <td>NaN</td>\n",
       "      <td>4</td>\n",
       "      <td>56</td>\n",
       "    </tr>\n",
       "  </tbody>\n",
       "</table>\n",
       "<p>117 rows × 24 columns</p>\n",
       "</div>"
      ],
      "text/plain": [
       "                                  Title   Rank  Score Medium  \\\n",
       "0      Fullmetal Alchemist: Brotherhood      1   9.21     TV   \n",
       "2                              Gintama°      3   9.11     TV   \n",
       "3                Hunter x Hunter (2011)      4   9.11     TV   \n",
       "4    Shingeki no Kyojin Season 3 Part 2      5   9.09     TV   \n",
       "6                              Gintama'      7   9.08     TV   \n",
       "..                                  ...    ...    ...    ...   \n",
       "289             Idol Fight Suchie-Pai 2  10790   4.29    OVA   \n",
       "290                                  Ai  10791   4.28  Movie   \n",
       "293                      Docchi mo Maid  10794   4.27    ONA   \n",
       "295                              4.Eyes  10796   4.24  Movie   \n",
       "299                       Yoru no Okite  10800   4.22  Movie   \n",
       "\n",
       "     Number of Episodes   Episode Length Start Date  End Date Premier Season  \\\n",
       "0                    64  24 min. per ep.   Apr 2009  Jul 2010         Spring   \n",
       "2                    51  24 min. per ep.   Apr 2015  Mar 2016         Spring   \n",
       "3                   148  23 min. per ep.   Oct 2011  Sep 2014           Fall   \n",
       "4                    10  23 min. per ep.   Apr 2019  Jul 2019         Spring   \n",
       "6                    51  24 min. per ep.   Apr 2011  Mar 2012         Spring   \n",
       "..                  ...              ...        ...       ...            ...   \n",
       "289                   1       30 min.\\n    Apr 1996  Apr 1996    Unavailable   \n",
       "290                   1        4 min.\\n        1963      1963    Unavailable   \n",
       "293                   1       13 min.\\n        2004      2004    Unavailable   \n",
       "295                   1        9 min.\\n        1975      1975    Unavailable   \n",
       "299                   1        4 min.\\n        1995      1995    Unavailable   \n",
       "\n",
       "    Source Material  ...   Genre 1        Genre 2     Genre 3      Genre 4  \\\n",
       "0             Manga  ...    Action       Military   Adventure       Comedy   \n",
       "2             Manga  ...    Action         Comedy  Historical       Parody   \n",
       "3             Manga  ...    Action      Adventure     Fantasy      Shounen   \n",
       "4             Manga  ...    Action       Military     Mystery  Super Power   \n",
       "6             Manga  ...    Action         Sci-Fi      Comedy   Historical   \n",
       "..              ...  ...       ...            ...         ...          ...   \n",
       "289            Game  ...    Action          Ecchi         NaN          NaN   \n",
       "290        Original  ...  Dementia  Psychological     Romance          NaN   \n",
       "293        Original  ...    Action         Comedy       Magic        Ecchi   \n",
       "295        Original  ...  Dementia            NaN         NaN          NaN   \n",
       "299        Original  ...  Dementia            NaN         NaN          NaN   \n",
       "\n",
       "         Genre 5  Genre 6  Genre 7  Genre 8 Total Minutes Synopsis Length  \n",
       "0          Drama    Magic  Fantasy  Shounen          1536             223  \n",
       "2        Samurai   Sci-Fi  Shounen      NaN          1224             185  \n",
       "3    Super Power      NaN      NaN      NaN          3404             164  \n",
       "4          Drama  Fantasy  Shounen      NaN           230             130  \n",
       "6         Parody  Samurai  Shounen      NaN          1224             161  \n",
       "..           ...      ...      ...      ...           ...             ...  \n",
       "289          NaN      NaN      NaN      NaN            30              85  \n",
       "290          NaN      NaN      NaN      NaN             4              19  \n",
       "293    Shoujo Ai      NaN      NaN      NaN            13              28  \n",
       "295          NaN      NaN      NaN      NaN             9              57  \n",
       "299          NaN      NaN      NaN      NaN             4              56  \n",
       "\n",
       "[117 rows x 24 columns]"
      ]
     },
     "execution_count": 26,
     "metadata": {},
     "output_type": "execute_result"
    }
   ],
   "source": [
    "df[(df['Genre 1'] == 'Action') | (df['Genre 1'] == 'Dementia')]"
   ]
  },
  {
   "cell_type": "code",
   "execution_count": 8,
   "metadata": {},
   "outputs": [],
   "source": [
    "truncdf = df[(df['Genre 1'] == 'Action') | (df['Genre 1'] == 'Dementia')]"
   ]
  },
  {
   "cell_type": "markdown",
   "metadata": {},
   "source": [
    "### Punctuation Removal, Word Lowercasing, & Stopword Removal"
   ]
  },
  {
   "cell_type": "code",
   "execution_count": 9,
   "metadata": {},
   "outputs": [],
   "source": [
    "def text_process(text):\n",
    "    # Remove punctuations and capitalization with below command\n",
    "    simple_words = [word.lower() for word in text if word not in string.punctuation]\n",
    "    for num,letter in enumerate(simple_words):\n",
    "        if letter == '—':\n",
    "            simple_words[num] = ' '\n",
    "            \n",
    "    # Rejoin priorly formed list in below command to pass to following command\n",
    "    simple_words = ''.join(simple_words)\n",
    "\n",
    "    # Remove stopwords with below command\n",
    "    clean_text = [words for words in simple_words.split() if words.lower() not in stopwords.words('english')]\n",
    "#     return simple_words\n",
    "    return clean_text"
   ]
  },
  {
   "cell_type": "code",
   "execution_count": 10,
   "metadata": {},
   "outputs": [
    {
     "name": "stderr",
     "output_type": "stream",
     "text": [
      "/Users/josephheadley/opt/anaconda3/lib/python3.7/site-packages/ipykernel_launcher.py:1: SettingWithCopyWarning: \n",
      "A value is trying to be set on a copy of a slice from a DataFrame.\n",
      "Try using .loc[row_indexer,col_indexer] = value instead\n",
      "\n",
      "See the caveats in the documentation: https://pandas.pydata.org/pandas-docs/stable/user_guide/indexing.html#returning-a-view-versus-a-copy\n",
      "  \"\"\"Entry point for launching an IPython kernel.\n"
     ]
    }
   ],
   "source": [
    "truncdf['Clean Synopses'] = truncdf['Synopses'].apply(text_process)"
   ]
  },
  {
   "cell_type": "code",
   "execution_count": 11,
   "metadata": {},
   "outputs": [
    {
     "data": {
      "text/plain": [
       "0      [order, something, obtained, something, equal,...\n",
       "2      [gintoki, shinpachi, kagura, return, funloving...\n",
       "3      [hunter, x, hunter, set, world, hunters, exist...\n",
       "4      [seeking, restore, humanity’s, diminishing, ho...\n",
       "6      [oneyear, hiatus, shinpachi, shimura, returns,...\n",
       "                             ...                        \n",
       "289    [every, century, legendary, mahjong, dials, ca...\n",
       "290    [short, experimental, anime, woman, desperatel...\n",
       "293    [izumi, 12yearold, schoolgirl, suddenly, gets,...\n",
       "295    [human, eye, wellknown, motif, psychedelic, cu...\n",
       "299    [yoru, okite, takes, us, sky, hell, accompany,...\n",
       "Name: Clean Synopses, Length: 117, dtype: object"
      ]
     },
     "execution_count": 11,
     "metadata": {},
     "output_type": "execute_result"
    }
   ],
   "source": [
    "truncdf['Clean Synopses']"
   ]
  },
  {
   "cell_type": "markdown",
   "metadata": {},
   "source": [
    "## Vectorization"
   ]
  },
  {
   "cell_type": "code",
   "execution_count": 12,
   "metadata": {},
   "outputs": [],
   "source": [
    "from sklearn.feature_extraction.text import CountVectorizer"
   ]
  },
  {
   "cell_type": "code",
   "execution_count": 13,
   "metadata": {},
   "outputs": [],
   "source": [
    "bow_transformer = CountVectorizer(analyzer=text_process).fit(truncdf['Synopses'])"
   ]
  },
  {
   "cell_type": "code",
   "execution_count": 28,
   "metadata": {},
   "outputs": [
    {
     "name": "stdout",
     "output_type": "stream",
     "text": [
      "2972\n"
     ]
    }
   ],
   "source": [
    "print(len(bow_transformer.vocabulary_))"
   ]
  },
  {
   "cell_type": "code",
   "execution_count": 15,
   "metadata": {},
   "outputs": [],
   "source": [
    "synopses_bow = bow_transformer.transform([truncdf['Synopses']])"
   ]
  },
  {
   "cell_type": "code",
   "execution_count": 16,
   "metadata": {
    "scrolled": false
   },
   "outputs": [
    {
     "name": "stdout",
     "output_type": "stream",
     "text": [
      "  (0, 0)\t4\n",
      "  (0, 1)\t1\n",
      "  (0, 2)\t2\n",
      "  (0, 3)\t1\n",
      "  (0, 6)\t1\n",
      "  (0, 7)\t1\n",
      "  (0, 8)\t1\n",
      "  (0, 11)\t1\n",
      "  (0, 19)\t1\n",
      "  (0, 20)\t1\n",
      "  (0, 22)\t1\n",
      "  (0, 30)\t1\n",
      "  (0, 31)\t1\n",
      "  (0, 32)\t1\n",
      "  (0, 35)\t1\n",
      "  (0, 36)\t1\n",
      "  (0, 37)\t2\n",
      "  (0, 38)\t1\n",
      "  (0, 39)\t1\n",
      "  (0, 40)\t4\n",
      "  (0, 41)\t6\n",
      "  (0, 42)\t1\n",
      "  (0, 43)\t1\n",
      "  (0, 45)\t1\n",
      "  (0, 47)\t1\n",
      "  :\t:\n",
      "  (0, 2937)\t1\n",
      "  (0, 2938)\t1\n",
      "  (0, 2939)\t2\n",
      "  (0, 2940)\t8\n",
      "  (0, 2941)\t11\n",
      "  (0, 2942)\t1\n",
      "  (0, 2945)\t1\n",
      "  (0, 2946)\t2\n",
      "  (0, 2947)\t16\n",
      "  (0, 2949)\t1\n",
      "  (0, 2950)\t5\n",
      "  (0, 2952)\t1\n",
      "  (0, 2954)\t1\n",
      "  (0, 2955)\t15\n",
      "  (0, 2956)\t1\n",
      "  (0, 2958)\t2\n",
      "  (0, 2959)\t1\n",
      "  (0, 2960)\t1\n",
      "  (0, 2961)\t2\n",
      "  (0, 2964)\t1\n",
      "  (0, 2966)\t1\n",
      "  (0, 2968)\t1\n",
      "  (0, 2969)\t1\n",
      "  (0, 2970)\t1\n",
      "  (0, 2971)\t1\n"
     ]
    }
   ],
   "source": [
    "print(synopses_bow)"
   ]
  },
  {
   "cell_type": "code",
   "execution_count": 17,
   "metadata": {},
   "outputs": [
    {
     "name": "stdout",
     "output_type": "stream",
     "text": [
      "Shape of Sparse Matrix:  (1, 2972)\n",
      "Amount of Non-Zero occurences:  2374\n"
     ]
    }
   ],
   "source": [
    "print('Shape of Sparse Matrix: ', synopses_bow.shape)\n",
    "print('Amount of Non-Zero occurences: ', synopses_bow.nnz)"
   ]
  },
  {
   "cell_type": "code",
   "execution_count": 18,
   "metadata": {},
   "outputs": [
    {
     "name": "stdout",
     "output_type": "stream",
     "text": [
      "sparsity: 79.88%\n"
     ]
    }
   ],
   "source": [
    "sparsity = (100.0 * synopses_bow.nnz / (synopses_bow.shape[0] * synopses_bow.shape[1]))\n",
    "print(f'sparsity: {round(sparsity,2)}%')"
   ]
  },
  {
   "cell_type": "markdown",
   "metadata": {},
   "source": [
    "## Model Creation & Evaluation"
   ]
  },
  {
   "cell_type": "code",
   "execution_count": 19,
   "metadata": {},
   "outputs": [],
   "source": [
    "from sklearn.model_selection import train_test_split"
   ]
  },
  {
   "cell_type": "code",
   "execution_count": 20,
   "metadata": {},
   "outputs": [],
   "source": [
    "X = truncdf['Synopses']\n",
    "y = truncdf['Genre 1']\n",
    "X_train, X_test, y_train, y_test = train_test_split(X,y,test_size=0.25,random_state=101)"
   ]
  },
  {
   "cell_type": "code",
   "execution_count": 21,
   "metadata": {},
   "outputs": [],
   "source": [
    "from sklearn.naive_bayes import MultinomialNB\n",
    "from sklearn.pipeline import Pipeline\n",
    "\n",
    "pipeline = Pipeline([\n",
    "    ('bow', CountVectorizer(analyzer=text_process)),  # strings to token integer counts\n",
    "    ('classifier', MultinomialNB()),  # train on TF-IDF vectors w/ Naive Bayes classifier\n",
    "])"
   ]
  },
  {
   "cell_type": "code",
   "execution_count": 22,
   "metadata": {},
   "outputs": [
    {
     "data": {
      "text/plain": [
       "Pipeline(memory=None,\n",
       "         steps=[('bow',\n",
       "                 CountVectorizer(analyzer=<function text_process at 0x7fb4b8a44950>,\n",
       "                                 binary=False, decode_error='strict',\n",
       "                                 dtype=<class 'numpy.int64'>, encoding='utf-8',\n",
       "                                 input='content', lowercase=True, max_df=1.0,\n",
       "                                 max_features=None, min_df=1,\n",
       "                                 ngram_range=(1, 1), preprocessor=None,\n",
       "                                 stop_words=None, strip_accents=None,\n",
       "                                 token_pattern='(?u)\\\\b\\\\w\\\\w+\\\\b',\n",
       "                                 tokenizer=None, vocabulary=None)),\n",
       "                ('classifier',\n",
       "                 MultinomialNB(alpha=1.0, class_prior=None, fit_prior=True))],\n",
       "         verbose=False)"
      ]
     },
     "execution_count": 22,
     "metadata": {},
     "output_type": "execute_result"
    }
   ],
   "source": [
    "pipeline.fit(X_train,y_train)"
   ]
  },
  {
   "cell_type": "code",
   "execution_count": 23,
   "metadata": {},
   "outputs": [],
   "source": [
    "predictions = pipeline.predict(X_test)"
   ]
  },
  {
   "cell_type": "code",
   "execution_count": 24,
   "metadata": {},
   "outputs": [],
   "source": [
    "from sklearn.metrics import classification_report"
   ]
  },
  {
   "cell_type": "code",
   "execution_count": 25,
   "metadata": {},
   "outputs": [
    {
     "name": "stdout",
     "output_type": "stream",
     "text": [
      "              precision    recall  f1-score   support\n",
      "\n",
      "      Action       0.91      0.87      0.89        23\n",
      "    Dementia       0.62      0.71      0.67         7\n",
      "\n",
      "    accuracy                           0.83        30\n",
      "   macro avg       0.77      0.79      0.78        30\n",
      "weighted avg       0.84      0.83      0.84        30\n",
      "\n"
     ]
    }
   ],
   "source": [
    "print(classification_report(predictions, y_test))"
   ]
  },
  {
   "cell_type": "code",
   "execution_count": null,
   "metadata": {},
   "outputs": [],
   "source": []
  }
 ],
 "metadata": {
  "kernelspec": {
   "display_name": "Python 3",
   "language": "python",
   "name": "python3"
  },
  "language_info": {
   "codemirror_mode": {
    "name": "ipython",
    "version": 3
   },
   "file_extension": ".py",
   "mimetype": "text/x-python",
   "name": "python",
   "nbconvert_exporter": "python",
   "pygments_lexer": "ipython3",
   "version": "3.7.6"
  }
 },
 "nbformat": 4,
 "nbformat_minor": 4
}
