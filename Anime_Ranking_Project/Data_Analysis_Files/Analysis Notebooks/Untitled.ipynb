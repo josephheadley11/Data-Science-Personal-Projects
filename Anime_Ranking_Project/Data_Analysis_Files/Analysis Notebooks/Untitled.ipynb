{
 "cells": [
  {
   "cell_type": "markdown",
   "metadata": {},
   "source": [
    "## Notebook Summary"
   ]
  },
  {
   "cell_type": "markdown",
   "metadata": {},
   "source": [
    "This notebook uses a dataset of anime info webscraped from myanimelist.net and compiled into a single .csv file. This notebook serves as a data science project to practice the process of statistical inference"
   ]
  },
  {
   "cell_type": "code",
   "execution_count": null,
   "metadata": {},
   "outputs": [],
   "source": []
  },
  {
   "cell_type": "code",
   "execution_count": null,
   "metadata": {},
   "outputs": [],
   "source": []
  },
  {
   "cell_type": "markdown",
   "metadata": {},
   "source": [
    "## Imports"
   ]
  },
  {
   "cell_type": "code",
   "execution_count": 1,
   "metadata": {},
   "outputs": [],
   "source": [
    "import pandas as pd\n",
    "import numpy as np\n",
    "import matplotlib.pyplot as plt\n",
    "import seaborn as sns\n",
    "%matplotlib inline"
   ]
  },
  {
   "cell_type": "code",
   "execution_count": 3,
   "metadata": {},
   "outputs": [
    {
     "name": "stdout",
     "output_type": "stream",
     "text": [
      "<class 'pandas.core.frame.DataFrame'>\n",
      "RangeIndex: 300 entries, 0 to 299\n",
      "Data columns (total 22 columns):\n",
      " #   Column              Non-Null Count  Dtype  \n",
      "---  ------              --------------  -----  \n",
      " 0   Title               300 non-null    object \n",
      " 1   Rank                300 non-null    int64  \n",
      " 2   Score               300 non-null    float64\n",
      " 3   Medium              300 non-null    object \n",
      " 4   Number of Episodes  300 non-null    int64  \n",
      " 5   Episode Length      300 non-null    object \n",
      " 6   Start Date          300 non-null    object \n",
      " 7   End Date            296 non-null    object \n",
      " 8   Premier Season      122 non-null    object \n",
      " 9   Source Material     268 non-null    object \n",
      " 10  Age Rating          295 non-null    object \n",
      " 11  Number of Members   300 non-null    int64  \n",
      " 12  URLS                300 non-null    object \n",
      " 13  Synopses            300 non-null    object \n",
      " 14  Genre 1             300 non-null    object \n",
      " 15  Genre 2             236 non-null    object \n",
      " 16  Genre 3             179 non-null    object \n",
      " 17  Genre 4             132 non-null    object \n",
      " 18  Genre 5             91 non-null     object \n",
      " 19  Genre 6             44 non-null     object \n",
      " 20  Genre 7             26 non-null     object \n",
      " 21  Genre 8             2 non-null      object \n",
      "dtypes: float64(1), int64(3), object(18)\n",
      "memory usage: 51.7+ KB\n"
     ]
    }
   ],
   "source": [
    "df = pd.concat([pd.read_csv(\"../Web_Scraped_csvs/ranked_anime_1.csv\"),pd.read_csv(\"../Web_Scraped_csvs/ranked_anime_2.csv\"),pd.read_csv(\"../Web_Scraped_csvs/ranked_anime_3.csv\"),pd.read_csv(\"../Web_Scraped_csvs/ranked_anime_4.csv\"),pd.read_csv(\"../Web_Scraped_csvs/ranked_anime_5.csv\"),pd.read_csv(\"../Web_Scraped_csvs/ranked_anime_6.csv\")])\n",
    "df.reset_index(drop=True, inplace=True)\n",
    "df.info()"
   ]
  },
  {
   "cell_type": "code",
   "execution_count": null,
   "metadata": {},
   "outputs": [],
   "source": []
  }
 ],
 "metadata": {
  "kernelspec": {
   "display_name": "Python 3",
   "language": "python",
   "name": "python3"
  },
  "language_info": {
   "codemirror_mode": {
    "name": "ipython",
    "version": 3
   },
   "file_extension": ".py",
   "mimetype": "text/x-python",
   "name": "python",
   "nbconvert_exporter": "python",
   "pygments_lexer": "ipython3",
   "version": "3.7.6"
  }
 },
 "nbformat": 4,
 "nbformat_minor": 4
}
